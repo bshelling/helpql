{
 "cells": [
  {
   "cell_type": "code",
   "execution_count": 21,
   "id": "02e62209",
   "metadata": {
    "scrolled": true
   },
   "outputs": [],
   "source": [
    "import pandas as pd\n",
    "data = pd.read_csv('raw_file/all_seasons.csv')"
   ]
  },
  {
   "cell_type": "markdown",
   "id": "90d9c51e",
   "metadata": {},
   "source": [
    "### Table structure for player stats"
   ]
  },
  {
   "cell_type": "code",
   "execution_count": 31,
   "id": "1c0d04f4",
   "metadata": {
    "scrolled": true
   },
   "outputs": [
    {
     "data": {
      "text/html": [
       "<div>\n",
       "<style scoped>\n",
       "    .dataframe tbody tr th:only-of-type {\n",
       "        vertical-align: middle;\n",
       "    }\n",
       "\n",
       "    .dataframe tbody tr th {\n",
       "        vertical-align: top;\n",
       "    }\n",
       "\n",
       "    .dataframe thead th {\n",
       "        text-align: right;\n",
       "    }\n",
       "</style>\n",
       "<table border=\"1\" class=\"dataframe\">\n",
       "  <thead>\n",
       "    <tr style=\"text-align: right;\">\n",
       "      <th></th>\n",
       "      <th>player_name</th>\n",
       "      <th>team_abbreviation</th>\n",
       "      <th>points</th>\n",
       "      <th>rebounds</th>\n",
       "      <th>assists</th>\n",
       "      <th>net_rating</th>\n",
       "      <th>season</th>\n",
       "    </tr>\n",
       "  </thead>\n",
       "  <tbody>\n",
       "    <tr>\n",
       "      <th>0</th>\n",
       "      <td>Dennis Rodman</td>\n",
       "      <td>CHI</td>\n",
       "      <td>5.7</td>\n",
       "      <td>16.1</td>\n",
       "      <td>3.1</td>\n",
       "      <td>16.1</td>\n",
       "      <td>1996-97</td>\n",
       "    </tr>\n",
       "    <tr>\n",
       "      <th>1</th>\n",
       "      <td>Dwayne Schintzius</td>\n",
       "      <td>LAC</td>\n",
       "      <td>2.3</td>\n",
       "      <td>1.5</td>\n",
       "      <td>0.3</td>\n",
       "      <td>12.3</td>\n",
       "      <td>1996-97</td>\n",
       "    </tr>\n",
       "    <tr>\n",
       "      <th>2</th>\n",
       "      <td>Earl Cureton</td>\n",
       "      <td>TOR</td>\n",
       "      <td>0.8</td>\n",
       "      <td>1.0</td>\n",
       "      <td>0.4</td>\n",
       "      <td>-2.1</td>\n",
       "      <td>1996-97</td>\n",
       "    </tr>\n",
       "  </tbody>\n",
       "</table>\n",
       "</div>"
      ],
      "text/plain": [
       "         player_name team_abbreviation  points  rebounds  assists  net_rating  \\\n",
       "0      Dennis Rodman               CHI     5.7      16.1      3.1        16.1   \n",
       "1  Dwayne Schintzius               LAC     2.3       1.5      0.3        12.3   \n",
       "2       Earl Cureton               TOR     0.8       1.0      0.4        -2.1   \n",
       "\n",
       "    season  \n",
       "0  1996-97  \n",
       "1  1996-97  \n",
       "2  1996-97  "
      ]
     },
     "execution_count": 31,
     "metadata": {},
     "output_type": "execute_result"
    }
   ],
   "source": [
    "playerStats = pd.DataFrame(data,columns=['player_name','team_abbreviation','pts','reb','ast','net_rating','season'])\n",
    "playerStats.rename(columns={\"pts\":\"points\",\"reb\":\"rebounds\",\"ast\":\"assists\"}).head(3)"
   ]
  },
  {
   "cell_type": "markdown",
   "id": "4a504827",
   "metadata": {},
   "source": [
    "### Writes the player stats to a csv file"
   ]
  },
  {
   "cell_type": "code",
   "execution_count": 34,
   "id": "d84e1e26",
   "metadata": {},
   "outputs": [],
   "source": [
    "playerStats = pd.DataFrame(data,columns=['player_name','team_abbreviation','pts','reb','ast','net_rating','season']).to_csv('player')\n"
   ]
  },
  {
   "cell_type": "markdown",
   "id": "999cd77b",
   "metadata": {},
   "source": [
    "### Table structure for player details"
   ]
  },
  {
   "cell_type": "code",
   "execution_count": 33,
   "id": "21476e33",
   "metadata": {
    "scrolled": true
   },
   "outputs": [
    {
     "data": {
      "text/html": [
       "<div>\n",
       "<style scoped>\n",
       "    .dataframe tbody tr th:only-of-type {\n",
       "        vertical-align: middle;\n",
       "    }\n",
       "\n",
       "    .dataframe tbody tr th {\n",
       "        vertical-align: top;\n",
       "    }\n",
       "\n",
       "    .dataframe thead th {\n",
       "        text-align: right;\n",
       "    }\n",
       "</style>\n",
       "<table border=\"1\" class=\"dataframe\">\n",
       "  <thead>\n",
       "    <tr style=\"text-align: right;\">\n",
       "      <th></th>\n",
       "      <th>player_name</th>\n",
       "      <th>age</th>\n",
       "      <th>college</th>\n",
       "      <th>draft_year</th>\n",
       "      <th>draft_round</th>\n",
       "      <th>draft_number</th>\n",
       "      <th>player_height</th>\n",
       "      <th>team_abbreviation</th>\n",
       "    </tr>\n",
       "  </thead>\n",
       "  <tbody>\n",
       "    <tr>\n",
       "      <th>0</th>\n",
       "      <td>Dennis Rodman</td>\n",
       "      <td>36.0</td>\n",
       "      <td>Southeastern Oklahoma State</td>\n",
       "      <td>1986</td>\n",
       "      <td>2</td>\n",
       "      <td>27</td>\n",
       "      <td>198.12</td>\n",
       "      <td>CHI</td>\n",
       "    </tr>\n",
       "    <tr>\n",
       "      <th>1</th>\n",
       "      <td>Dwayne Schintzius</td>\n",
       "      <td>28.0</td>\n",
       "      <td>Florida</td>\n",
       "      <td>1990</td>\n",
       "      <td>1</td>\n",
       "      <td>24</td>\n",
       "      <td>215.90</td>\n",
       "      <td>LAC</td>\n",
       "    </tr>\n",
       "    <tr>\n",
       "      <th>2</th>\n",
       "      <td>Earl Cureton</td>\n",
       "      <td>39.0</td>\n",
       "      <td>Detroit Mercy</td>\n",
       "      <td>1979</td>\n",
       "      <td>3</td>\n",
       "      <td>58</td>\n",
       "      <td>205.74</td>\n",
       "      <td>TOR</td>\n",
       "    </tr>\n",
       "  </tbody>\n",
       "</table>\n",
       "</div>"
      ],
      "text/plain": [
       "         player_name   age                      college draft_year  \\\n",
       "0      Dennis Rodman  36.0  Southeastern Oklahoma State       1986   \n",
       "1  Dwayne Schintzius  28.0                      Florida       1990   \n",
       "2       Earl Cureton  39.0                Detroit Mercy       1979   \n",
       "\n",
       "  draft_round draft_number  player_height team_abbreviation  \n",
       "0           2           27         198.12               CHI  \n",
       "1           1           24         215.90               LAC  \n",
       "2           3           58         205.74               TOR  "
      ]
     },
     "execution_count": 33,
     "metadata": {},
     "output_type": "execute_result"
    }
   ],
   "source": [
    "playerStats = pd.DataFrame(data,columns=['player_name','age','college','draft_year','draft_round','draft_number','player_height','team_abbreviation'])\n",
    "playerStats.rename(columns={\"pts\":\"points\",\"reb\":\"rebounds\",\"ast\":\"assists\"}).head(3)"
   ]
  },
  {
   "cell_type": "markdown",
   "id": "4a93687e",
   "metadata": {},
   "source": [
    "### Writes the players to a csv file"
   ]
  },
  {
   "cell_type": "code",
   "execution_count": 27,
   "id": "a174a2b4",
   "metadata": {},
   "outputs": [],
   "source": [
    "players = pd.DataFrame(data,columns=['age','college','draft_year','draft_round','draft_number','player_name','player_height','team_abbreviation'])\n",
    "players.to_csv('players.csv')"
   ]
  },
  {
   "cell_type": "code",
   "execution_count": null,
   "id": "72bef8bd",
   "metadata": {},
   "outputs": [],
   "source": []
  }
 ],
 "metadata": {
  "kernelspec": {
   "display_name": "Python 3 (ipykernel)",
   "language": "python",
   "name": "python3"
  },
  "language_info": {
   "codemirror_mode": {
    "name": "ipython",
    "version": 3
   },
   "file_extension": ".py",
   "mimetype": "text/x-python",
   "name": "python",
   "nbconvert_exporter": "python",
   "pygments_lexer": "ipython3",
   "version": "3.10.8"
  }
 },
 "nbformat": 4,
 "nbformat_minor": 5
}
